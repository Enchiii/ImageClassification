{
 "cells": [
  {
   "cell_type": "code",
   "execution_count": null,
   "metadata": {},
   "outputs": [],
   "source": [
    "import tensorflow as tf\n",
    "from tensorflow.keras.optimizers import Adam\n",
    "from tensorflow.keras import layers "
   ]
  },
  {
   "cell_type": "code",
   "execution_count": null,
   "metadata": {},
   "outputs": [],
   "source": [
    "train_data_path = 'data/seg_train/seg_train'\n",
    "test_data_path = 'data/seg_test/seg_test'\n",
    "pred_data_path = 'data/seg_pred'"
   ]
  },
  {
   "cell_type": "code",
   "execution_count": null,
   "metadata": {},
   "outputs": [],
   "source": [
    "train_datagen = tf.keras.preprocessing.image.ImageDataGenerator(rescale=1/255,\n",
    "                                                                zoom_range=0.2,\n",
    "                                                                rotation_range=0.3)\n",
    "test_datagen = tf.keras.preprocessing.image.ImageDataGenerator(rescale=1/255,\n",
    "                                                                zoom_range=0.2,\n",
    "                                                                rotation_range=0.3)\n",
    "pred_datagen = tf.keras.preprocessing.image.ImageDataGenerator(rescale=1/255,\n",
    "                                                                zoom_range=0.2,\n",
    "                                                                rotation_range=0.3)"
   ]
  }
 ],
 "metadata": {
  "language_info": {
   "name": "python"
  }
 },
 "nbformat": 4,
 "nbformat_minor": 2
}
