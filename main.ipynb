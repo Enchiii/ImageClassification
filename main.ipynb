{
 "cells": [
  {
   "cell_type": "code",
   "execution_count": 1,
   "metadata": {
    "id": "r-okGe3vGzQw"
   },
   "outputs": [],
   "source": [
    "import tensorflow as tf\n",
    "from tensorflow.keras.optimizers import Adam\n",
    "from tensorflow.keras import layers"
   ]
  },
  {
   "cell_type": "code",
   "execution_count": 2,
   "metadata": {},
   "outputs": [],
   "source": [
    "# import matplotlib.pyplot as plt\n",
    "import numpy as np\n",
    "import pathlib"
   ]
  },
  {
   "cell_type": "code",
   "execution_count": 3,
   "metadata": {
    "id": "iRZSSJRKG463"
   },
   "outputs": [],
   "source": [
    "IMG_SIZE = (150, 150)"
   ]
  },
  {
   "cell_type": "code",
   "execution_count": 4,
   "metadata": {
    "id": "BnA8Yl7uGzQx"
   },
   "outputs": [],
   "source": [
    "train_data_path = './data/seg_train/seg_train/'\n",
    "test_data_path = './data/seg_test/seg_test/'\n",
    "pred_data_path = './data/seg_pred/'\n"
   ]
  },
  {
   "cell_type": "code",
   "execution_count": 5,
   "metadata": {},
   "outputs": [],
   "source": [
    "data_dir = pathlib.Path(train_data_path)\n",
    "class_names = np.array([sorted(item.name for item in data_dir.glob('*'))])"
   ]
  },
  {
   "cell_type": "code",
   "execution_count": 6,
   "metadata": {},
   "outputs": [
    {
     "data": {
      "text/plain": [
       "array([['buildings', 'forest', 'glacier', 'mountain', 'sea', 'street']],\n",
       "      dtype='<U9')"
      ]
     },
     "execution_count": 6,
     "metadata": {},
     "output_type": "execute_result"
    }
   ],
   "source": [
    "class_names"
   ]
  },
  {
   "cell_type": "code",
   "execution_count": 7,
   "metadata": {
    "id": "Qyc01tycGzQy"
   },
   "outputs": [],
   "source": [
    "datagen = tf.keras.preprocessing.image.ImageDataGenerator(\n",
    "    rescale=1/255,\n",
    "    zoom_range=0.2,\n",
    "    rotation_range=0.5\n",
    ")"
   ]
  },
  {
   "cell_type": "code",
   "execution_count": 8,
   "metadata": {
    "colab": {
     "base_uri": "https://localhost:8080/",
     "height": 391
    },
    "id": "m3gMXWhQIBmw",
    "outputId": "b1c779ba-fac5-4c90-8529-6d7adbdbd3e0"
   },
   "outputs": [
    {
     "name": "stdout",
     "output_type": "stream",
     "text": [
      "Found 14034 images belonging to 6 classes.\n",
      "Found 3000 images belonging to 6 classes.\n",
      "Found 7301 images belonging to 1 classes.\n"
     ]
    }
   ],
   "source": [
    "train_data = datagen.flow_from_directory(\n",
    "    train_data_path,\n",
    "    target_size=IMG_SIZE,\n",
    "    # subset='training'\n",
    ")\n",
    "test_data = datagen.flow_from_directory(\n",
    "    test_data_path,\n",
    "    target_size=IMG_SIZE,\n",
    "    # subset='training'\n",
    ")\n",
    "pred_data = datagen.flow_from_directory(\n",
    "    pred_data_path,\n",
    "    target_size=IMG_SIZE,\n",
    "    # subset='training'\n",
    ")"
   ]
  },
  {
   "cell_type": "code",
   "execution_count": 10,
   "metadata": {
    "id": "NqQHBaQaLIft"
   },
   "outputs": [],
   "source": [
    "tbCallBack = tf.keras.callbacks.TensorBoard(log_dir='./tb_model_1', histogram_freq=0, write_graph=True, write_images=True)"
   ]
  },
  {
   "cell_type": "code",
   "execution_count": 11,
   "metadata": {
    "colab": {
     "base_uri": "https://localhost:8080/",
     "height": 211
    },
    "id": "R0vrHFRFG1Uw",
    "outputId": "47c1cd45-0263-4c03-d935-b371f65fd02d"
   },
   "outputs": [],
   "source": [
    "model_1 = tf.keras.Sequential([\n",
    "    layers.Conv2D(32, 6, padding='same', activation='relu', input_shape=(150,150, 3)),\n",
    "    layers.Conv2D(32, 6, padding='same', activation='relu'),\n",
    "    layers.Conv2D(32, 6, padding='same', activation='relu'),\n",
    "    layers.MaxPool2D(),\n",
    "    layers.Conv2D(64, 5, padding='same', activation='relu'),\n",
    "    layers.Conv2D(64, 5, padding='same', activation='relu'),\n",
    "    layers.Conv2D(64, 5, padding='same', activation='relu'),\n",
    "    layers.MaxPool2D(),\n",
    "    layers.Conv2D(128, 4, padding='same', activation='relu'),\n",
    "    layers.Conv2D(128, 4, padding='same', activation='relu'),\n",
    "    layers.Conv2D(128, 4, padding='same', activation='relu'),\n",
    "    layers.MaxPool2D(),\n",
    "    layers.Conv2D(256, 3, padding='same', activation='relu'),\n",
    "    layers.Conv2D(256, 3, padding='same', activation='relu'),\n",
    "    layers.Conv2D(256, 3, padding='same', activation='relu'),\n",
    "    layers.Flatten(),\n",
    "    layers.Dense(256, activation='relu'),\n",
    "    layers.Dense(6, activation='softmax'),\n",
    "])\n",
    "\n",
    "model_1.compile(\n",
    "    optimizer=Adam(),\n",
    "    loss=tf.keras.losses.CategoricalCrossentropy(),\n",
    "    metrics=['accuracy']\n",
    ")\n",
    "\n"
   ]
  },
  {
   "cell_type": "code",
   "execution_count": 12,
   "metadata": {},
   "outputs": [
    {
     "name": "stdout",
     "output_type": "stream",
     "text": [
      "Model: \"sequential\"\n",
      "_________________________________________________________________\n",
      " Layer (type)                Output Shape              Param #   \n",
      "=================================================================\n",
      " conv2d (Conv2D)             (None, 150, 150, 32)      3488      \n",
      "                                                                 \n",
      " conv2d_1 (Conv2D)           (None, 150, 150, 32)      36896     \n",
      "                                                                 \n",
      " conv2d_2 (Conv2D)           (None, 150, 150, 32)      36896     \n",
      "                                                                 \n",
      " max_pooling2d (MaxPooling2D  (None, 75, 75, 32)       0         \n",
      " )                                                               \n",
      "                                                                 \n",
      " conv2d_3 (Conv2D)           (None, 75, 75, 64)        51264     \n",
      "                                                                 \n",
      " conv2d_4 (Conv2D)           (None, 75, 75, 64)        102464    \n",
      "                                                                 \n",
      " conv2d_5 (Conv2D)           (None, 75, 75, 64)        102464    \n",
      "                                                                 \n",
      " max_pooling2d_1 (MaxPooling  (None, 37, 37, 64)       0         \n",
      " 2D)                                                             \n",
      "                                                                 \n",
      " conv2d_6 (Conv2D)           (None, 37, 37, 128)       131200    \n",
      "                                                                 \n",
      " conv2d_7 (Conv2D)           (None, 37, 37, 128)       262272    \n",
      "                                                                 \n",
      " conv2d_8 (Conv2D)           (None, 37, 37, 128)       262272    \n",
      "                                                                 \n",
      " max_pooling2d_2 (MaxPooling  (None, 18, 18, 128)      0         \n",
      " 2D)                                                             \n",
      "                                                                 \n",
      " conv2d_9 (Conv2D)           (None, 18, 18, 256)       295168    \n",
      "                                                                 \n",
      " conv2d_10 (Conv2D)          (None, 18, 18, 256)       590080    \n",
      "                                                                 \n",
      " conv2d_11 (Conv2D)          (None, 18, 18, 256)       590080    \n",
      "                                                                 \n",
      " flatten (Flatten)           (None, 82944)             0         \n",
      "                                                                 \n",
      " dense (Dense)               (None, 256)               21233920  \n",
      "                                                                 \n",
      " dense_1 (Dense)             (None, 6)                 1542      \n",
      "                                                                 \n",
      "=================================================================\n",
      "Total params: 23,700,006\n",
      "Trainable params: 23,700,006\n",
      "Non-trainable params: 0\n",
      "_________________________________________________________________\n"
     ]
    }
   ],
   "source": [
    "model_1.summary()"
   ]
  },
  {
   "cell_type": "code",
   "execution_count": 13,
   "metadata": {},
   "outputs": [
    {
     "ename": "",
     "evalue": "",
     "output_type": "error",
     "traceback": [
      "\u001b[1;31mThe Kernel crashed while executing code in the current cell or a previous cell. \n",
      "\u001b[1;31mPlease review the code in the cell(s) to identify a possible cause of the failure. \n",
      "\u001b[1;31mClick <a href='https://aka.ms/vscodeJupyterKernelCrash'>here</a> for more info. \n",
      "\u001b[1;31mView Jupyter <a href='command:jupyter.viewOutput'>log</a> for further details."
     ]
    }
   ],
   "source": [
    "history_1 = model_1.fit(\n",
    "    train_data,\n",
    "    epochs=5,\n",
    "    # steps_per_epoch=len(train_data),\n",
    "    # validation_data=test_data,\n",
    "    # validation_steps=len(test_data),\n",
    "    # callbacks=[tbCallBack]\n",
    ")\n"
   ]
  },
  {
   "cell_type": "code",
   "execution_count": null,
   "metadata": {},
   "outputs": [],
   "source": []
  }
 ],
 "metadata": {
  "accelerator": "GPU",
  "colab": {
   "gpuType": "T4",
   "include_colab_link": true,
   "provenance": []
  },
  "kernelspec": {
   "display_name": "ml",
   "language": "python",
   "name": "python3"
  },
  "language_info": {
   "codemirror_mode": {
    "name": "ipython",
    "version": 3
   },
   "file_extension": ".py",
   "mimetype": "text/x-python",
   "name": "python",
   "nbconvert_exporter": "python",
   "pygments_lexer": "ipython3",
   "version": "3.10.13"
  }
 },
 "nbformat": 4,
 "nbformat_minor": 4
}
